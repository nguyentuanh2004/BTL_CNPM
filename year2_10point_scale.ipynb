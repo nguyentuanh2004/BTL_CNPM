{
 "cells": [
  {
   "cell_type": "code",
   "execution_count": 1,
   "id": "initial_id",
   "metadata": {
    "collapsed": true,
    "ExecuteTime": {
     "end_time": "2025-03-22T02:47:23.861374Z",
     "start_time": "2025-03-22T02:47:23.282134Z"
    }
   },
   "outputs": [],
   "source": [
    "import pandas as pd\n",
    "import numpy as np"
   ]
  },
  {
   "cell_type": "code",
   "outputs": [],
   "source": [
    "pima=pd.read_excel(\"data/year2.xlsx\")"
   ],
   "metadata": {
    "collapsed": false,
    "ExecuteTime": {
     "end_time": "2025-03-22T02:47:26.817211Z",
     "start_time": "2025-03-22T02:47:25.866511Z"
    }
   },
   "id": "cfcd409c18fbd696",
   "execution_count": 2
  },
  {
   "cell_type": "code",
   "outputs": [
    {
     "data": {
      "text/plain": "    Kỹ năng mềm Triết học Mác- Lê Nin F1 Đại số tuyến tính Giải tích 1  \\\n0             1                        1                 1           1   \n1             2                        3                 3           3   \n2           4.9                      NaN               4.4         5.3   \n3           7.6                      NaN               6.4         8.8   \n4           6.3                      NaN               6.7         6.7   \n..          ...                      ...               ...         ...   \n680        7.50                        9              6.30        5.60   \n681           7                  3.90, 7              5.20        5.50   \n682        8.60                        9              7.80        5.30   \n683        7.70                     8.60              9.60           6   \n684        7.70                     8.60              7.10        8.40   \n\n    Tin học đại cương Những nguyên lý cơ bản của chủ nghĩa Mác- Lê Nin F1  \\\n0                   1                                                  1    \n1                   3                                                  2    \n2                 6.8                                                6.9    \n3                 5.2                                                8.6    \n4                 7.5                                                6.5    \n..                ...                                                ...    \n680              8.50                                                NaN    \n681              4.60                                                NaN    \n682              8.60                                                NaN    \n683              8.20                                                NaN    \n684              4.90                                                NaN    \n\n    Chủ nghĩa xã hội khoa học Kinh tế chính trị Mác-Lênin Vật lý điện từ  \\\n0                           2                           2              2   \n1                           2                           2              3   \n2                         NaN                         NaN            4.6   \n3                         NaN                         NaN            6.0   \n4                         NaN                         NaN            6.2   \n..                        ...                         ...            ...   \n680                      8.50                        7.30              5   \n681                         8                        6.30        2.60, 7   \n682                      9.20                        8.90           5.90   \n683                      9.20                        7.30              7   \n684                      9.70                        8.10           4.70   \n\n    Giải tích 2  ... Kiến trúc và tổ chức máy tính Lập trình hướng đối tượng  \\\n0             2  ...                             3                         3   \n1             3  ...                             3                         3   \n2           6.0  ...                      3.5, 8.4                       6.7   \n3           8.0  ...                           6.7                       8.1   \n4           4.5  ...                           5.9                       6.9   \n..          ...  ...                           ...                       ...   \n680        9.10  ...                          5.60                      4.30   \n681   2.80, 7.7  ...                          5.80                 2.90, 6.2   \n682        7.10  ...                          6.40                      8.10   \n683        7.30  ...                          6.20                      9.70   \n684        4.20  ...                          5.50                         5   \n\n    Tư tưởng Hồ Chí Minh Xác suất thống kê Lịch sử Đảng Cộng sản Việt Nam  \\\n0                      3                 4                              4   \n1                      2                 2                              2   \n2                    6.9               7.1                            NaN   \n3                    7.2               8.7                            NaN   \n4                    7.2          3.0, 6.0                            NaN   \n..                   ...               ...                            ...   \n680                 5.30                 5                      3.90, 5.8   \n681                 6.20         1.70, 4.5                           6.30   \n682                 4.20              5.30                      3.40, 7.2   \n683                 8.20              8.10                           8.20   \n684                    7           2.10, 5                              6   \n\n    Hệ điều hành Công nghệ Java Cơ sở dữ liệu Phân tích thiết kế thuật toán  \\\n0              4              4             4                             4   \n1              3              3             3                             3   \n2            5.2            8.3           5.8                           7.2   \n3            9.6            6.8           8.7                           8.5   \n4            5.5            8.1           6.6                           7.7   \n..           ...            ...           ...                           ...   \n680         3.40         0, 6.3     3.40, 8.1                          7.30   \n681            4         0, 7.3     1.30, 5.2                          6.40   \n682         6.30           7.20          6.10                          7.70   \n683         7.20              9          7.70                          8.70   \n684         5.10         0, 5.8     3.60, 7.3                          6.80   \n\n    Xếp loại học tập  \n0                NaN  \n1                NaN  \n2                Khá  \n3               Giỏi  \n4                Khá  \n..               ...  \n680    Chưa Xếp Loại  \n681    Chưa Xếp Loại  \n682    Chưa Xếp Loại  \n683    Chưa Xếp Loại  \n684    Chưa Xếp Loại  \n\n[685 rows x 26 columns]",
      "text/html": "<div>\n<style scoped>\n    .dataframe tbody tr th:only-of-type {\n        vertical-align: middle;\n    }\n\n    .dataframe tbody tr th {\n        vertical-align: top;\n    }\n\n    .dataframe thead th {\n        text-align: right;\n    }\n</style>\n<table border=\"1\" class=\"dataframe\">\n  <thead>\n    <tr style=\"text-align: right;\">\n      <th></th>\n      <th>Kỹ năng mềm</th>\n      <th>Triết học Mác- Lê Nin F1</th>\n      <th>Đại số tuyến tính</th>\n      <th>Giải tích 1</th>\n      <th>Tin học đại cương</th>\n      <th>Những nguyên lý cơ bản của chủ nghĩa Mác- Lê Nin F1</th>\n      <th>Chủ nghĩa xã hội khoa học</th>\n      <th>Kinh tế chính trị Mác-Lênin</th>\n      <th>Vật lý điện từ</th>\n      <th>Giải tích 2</th>\n      <th>...</th>\n      <th>Kiến trúc và tổ chức máy tính</th>\n      <th>Lập trình hướng đối tượng</th>\n      <th>Tư tưởng Hồ Chí Minh</th>\n      <th>Xác suất thống kê</th>\n      <th>Lịch sử Đảng Cộng sản Việt Nam</th>\n      <th>Hệ điều hành</th>\n      <th>Công nghệ Java</th>\n      <th>Cơ sở dữ liệu</th>\n      <th>Phân tích thiết kế thuật toán</th>\n      <th>Xếp loại học tập</th>\n    </tr>\n  </thead>\n  <tbody>\n    <tr>\n      <th>0</th>\n      <td>1</td>\n      <td>1</td>\n      <td>1</td>\n      <td>1</td>\n      <td>1</td>\n      <td>1</td>\n      <td>2</td>\n      <td>2</td>\n      <td>2</td>\n      <td>2</td>\n      <td>...</td>\n      <td>3</td>\n      <td>3</td>\n      <td>3</td>\n      <td>4</td>\n      <td>4</td>\n      <td>4</td>\n      <td>4</td>\n      <td>4</td>\n      <td>4</td>\n      <td>NaN</td>\n    </tr>\n    <tr>\n      <th>1</th>\n      <td>2</td>\n      <td>3</td>\n      <td>3</td>\n      <td>3</td>\n      <td>3</td>\n      <td>2</td>\n      <td>2</td>\n      <td>2</td>\n      <td>3</td>\n      <td>3</td>\n      <td>...</td>\n      <td>3</td>\n      <td>3</td>\n      <td>2</td>\n      <td>2</td>\n      <td>2</td>\n      <td>3</td>\n      <td>3</td>\n      <td>3</td>\n      <td>3</td>\n      <td>NaN</td>\n    </tr>\n    <tr>\n      <th>2</th>\n      <td>4.9</td>\n      <td>NaN</td>\n      <td>4.4</td>\n      <td>5.3</td>\n      <td>6.8</td>\n      <td>6.9</td>\n      <td>NaN</td>\n      <td>NaN</td>\n      <td>4.6</td>\n      <td>6.0</td>\n      <td>...</td>\n      <td>3.5, 8.4</td>\n      <td>6.7</td>\n      <td>6.9</td>\n      <td>7.1</td>\n      <td>NaN</td>\n      <td>5.2</td>\n      <td>8.3</td>\n      <td>5.8</td>\n      <td>7.2</td>\n      <td>Khá</td>\n    </tr>\n    <tr>\n      <th>3</th>\n      <td>7.6</td>\n      <td>NaN</td>\n      <td>6.4</td>\n      <td>8.8</td>\n      <td>5.2</td>\n      <td>8.6</td>\n      <td>NaN</td>\n      <td>NaN</td>\n      <td>6.0</td>\n      <td>8.0</td>\n      <td>...</td>\n      <td>6.7</td>\n      <td>8.1</td>\n      <td>7.2</td>\n      <td>8.7</td>\n      <td>NaN</td>\n      <td>9.6</td>\n      <td>6.8</td>\n      <td>8.7</td>\n      <td>8.5</td>\n      <td>Giỏi</td>\n    </tr>\n    <tr>\n      <th>4</th>\n      <td>6.3</td>\n      <td>NaN</td>\n      <td>6.7</td>\n      <td>6.7</td>\n      <td>7.5</td>\n      <td>6.5</td>\n      <td>NaN</td>\n      <td>NaN</td>\n      <td>6.2</td>\n      <td>4.5</td>\n      <td>...</td>\n      <td>5.9</td>\n      <td>6.9</td>\n      <td>7.2</td>\n      <td>3.0, 6.0</td>\n      <td>NaN</td>\n      <td>5.5</td>\n      <td>8.1</td>\n      <td>6.6</td>\n      <td>7.7</td>\n      <td>Khá</td>\n    </tr>\n    <tr>\n      <th>...</th>\n      <td>...</td>\n      <td>...</td>\n      <td>...</td>\n      <td>...</td>\n      <td>...</td>\n      <td>...</td>\n      <td>...</td>\n      <td>...</td>\n      <td>...</td>\n      <td>...</td>\n      <td>...</td>\n      <td>...</td>\n      <td>...</td>\n      <td>...</td>\n      <td>...</td>\n      <td>...</td>\n      <td>...</td>\n      <td>...</td>\n      <td>...</td>\n      <td>...</td>\n      <td>...</td>\n    </tr>\n    <tr>\n      <th>680</th>\n      <td>7.50</td>\n      <td>9</td>\n      <td>6.30</td>\n      <td>5.60</td>\n      <td>8.50</td>\n      <td>NaN</td>\n      <td>8.50</td>\n      <td>7.30</td>\n      <td>5</td>\n      <td>9.10</td>\n      <td>...</td>\n      <td>5.60</td>\n      <td>4.30</td>\n      <td>5.30</td>\n      <td>5</td>\n      <td>3.90, 5.8</td>\n      <td>3.40</td>\n      <td>0, 6.3</td>\n      <td>3.40, 8.1</td>\n      <td>7.30</td>\n      <td>Chưa Xếp Loại</td>\n    </tr>\n    <tr>\n      <th>681</th>\n      <td>7</td>\n      <td>3.90, 7</td>\n      <td>5.20</td>\n      <td>5.50</td>\n      <td>4.60</td>\n      <td>NaN</td>\n      <td>8</td>\n      <td>6.30</td>\n      <td>2.60, 7</td>\n      <td>2.80, 7.7</td>\n      <td>...</td>\n      <td>5.80</td>\n      <td>2.90, 6.2</td>\n      <td>6.20</td>\n      <td>1.70, 4.5</td>\n      <td>6.30</td>\n      <td>4</td>\n      <td>0, 7.3</td>\n      <td>1.30, 5.2</td>\n      <td>6.40</td>\n      <td>Chưa Xếp Loại</td>\n    </tr>\n    <tr>\n      <th>682</th>\n      <td>8.60</td>\n      <td>9</td>\n      <td>7.80</td>\n      <td>5.30</td>\n      <td>8.60</td>\n      <td>NaN</td>\n      <td>9.20</td>\n      <td>8.90</td>\n      <td>5.90</td>\n      <td>7.10</td>\n      <td>...</td>\n      <td>6.40</td>\n      <td>8.10</td>\n      <td>4.20</td>\n      <td>5.30</td>\n      <td>3.40, 7.2</td>\n      <td>6.30</td>\n      <td>7.20</td>\n      <td>6.10</td>\n      <td>7.70</td>\n      <td>Chưa Xếp Loại</td>\n    </tr>\n    <tr>\n      <th>683</th>\n      <td>7.70</td>\n      <td>8.60</td>\n      <td>9.60</td>\n      <td>6</td>\n      <td>8.20</td>\n      <td>NaN</td>\n      <td>9.20</td>\n      <td>7.30</td>\n      <td>7</td>\n      <td>7.30</td>\n      <td>...</td>\n      <td>6.20</td>\n      <td>9.70</td>\n      <td>8.20</td>\n      <td>8.10</td>\n      <td>8.20</td>\n      <td>7.20</td>\n      <td>9</td>\n      <td>7.70</td>\n      <td>8.70</td>\n      <td>Chưa Xếp Loại</td>\n    </tr>\n    <tr>\n      <th>684</th>\n      <td>7.70</td>\n      <td>8.60</td>\n      <td>7.10</td>\n      <td>8.40</td>\n      <td>4.90</td>\n      <td>NaN</td>\n      <td>9.70</td>\n      <td>8.10</td>\n      <td>4.70</td>\n      <td>4.20</td>\n      <td>...</td>\n      <td>5.50</td>\n      <td>5</td>\n      <td>7</td>\n      <td>2.10, 5</td>\n      <td>6</td>\n      <td>5.10</td>\n      <td>0, 5.8</td>\n      <td>3.60, 7.3</td>\n      <td>6.80</td>\n      <td>Chưa Xếp Loại</td>\n    </tr>\n  </tbody>\n</table>\n<p>685 rows × 26 columns</p>\n</div>"
     },
     "execution_count": 3,
     "metadata": {},
     "output_type": "execute_result"
    }
   ],
   "source": [
    "pima=pima.drop(columns=['MSSV','Ngày Sinh','diemtbclan1','diemtbccaonhat','Trung bình cộng học tập', 'Trung bình cộng tích lũy','tongsomonconno','tongsohoctrinhconno','Số tín chỉ tích lũy','Điểm rèn luyện'])\n",
    "pima"
   ],
   "metadata": {
    "collapsed": false,
    "ExecuteTime": {
     "end_time": "2025-03-22T02:47:27.978831Z",
     "start_time": "2025-03-22T02:47:27.937119Z"
    }
   },
   "id": "4c4109b28c99af2a",
   "execution_count": 3
  },
  {
   "cell_type": "code",
   "outputs": [
    {
     "data": {
      "text/plain": "    Kỹ năng mềm Đại số tuyến tính Giải tích 1 Tin học đại cương  \\\n0             1                 1           1                 1   \n1             2                 3           3                 3   \n2           4.9               4.4         5.3               6.8   \n3           7.6               6.4         8.8               5.2   \n4           6.3               6.7         6.7               7.5   \n..          ...               ...         ...               ...   \n680        7.50              6.30        5.60              8.50   \n681           7              5.20        5.50              4.60   \n682        8.60              7.80        5.30              8.60   \n683        7.70              9.60           6              8.20   \n684        7.70              7.10        8.40              4.90   \n\n    Vật lý điện từ Giải tích 2 Lập trình nâng cao Môn tự chọn 1 Thiết kế Web  \\\n0                2           2                  2          3, 3            3   \n1                3           3                  3          2, 2            3   \n2              4.6         6.0           2.1, 8.3           5.1          6.6   \n3              6.0         8.0                9.4           5.7          4.2   \n4              6.2         4.5                6.2           5.4          5.3   \n..             ...         ...                ...           ...          ...   \n680              5        9.10               8.10          5.90         5.90   \n681        2.60, 7   2.80, 7.7          2.70, 7.3          7.20      1.20, 5   \n682           5.90        7.10               5.10        3, 6.9         5.80   \n683              7        7.30               9.70          9.30         5.70   \n684           4.70        4.20               4.70          6.20    1.90, 4.8   \n\n    Toán rời rạc Cấu trúc dữ liệu và giải thuật Kiến trúc và tổ chức máy tính  \\\n0              3                              3                             3   \n1              3                              3                             3   \n2            5.8                            4.8                      3.5, 8.4   \n3            6.1                            7.5                           6.7   \n4            4.8                            6.5                           5.9   \n..           ...                            ...                           ...   \n680         6.10                              6                          5.60   \n681         5.20                              7                          5.80   \n682            5                              7                          6.40   \n683         6.70                           8.40                          6.20   \n684         6.30                           6.90                          5.50   \n\n    Lập trình hướng đối tượng Xác suất thống kê Hệ điều hành Công nghệ Java  \\\n0                           3                 4            4              4   \n1                           3                 2            3              3   \n2                         6.7               7.1          5.2            8.3   \n3                         8.1               8.7          9.6            6.8   \n4                         6.9          3.0, 6.0          5.5            8.1   \n..                        ...               ...          ...            ...   \n680                      4.30                 5         3.40         0, 6.3   \n681                 2.90, 6.2         1.70, 4.5            4         0, 7.3   \n682                      8.10              5.30         6.30           7.20   \n683                      9.70              8.10         7.20              9   \n684                         5           2.10, 5         5.10         0, 5.8   \n\n    Cơ sở dữ liệu Phân tích thiết kế thuật toán Xếp loại học tập  \n0               4                             4              NaN  \n1               3                             3              NaN  \n2             5.8                           7.2              Khá  \n3             8.7                           8.5             Giỏi  \n4             6.6                           7.7              Khá  \n..            ...                           ...              ...  \n680     3.40, 8.1                          7.30    Chưa Xếp Loại  \n681     1.30, 5.2                          6.40    Chưa Xếp Loại  \n682          6.10                          7.70    Chưa Xếp Loại  \n683          7.70                          8.70    Chưa Xếp Loại  \n684     3.60, 7.3                          6.80    Chưa Xếp Loại  \n\n[685 rows x 19 columns]",
      "text/html": "<div>\n<style scoped>\n    .dataframe tbody tr th:only-of-type {\n        vertical-align: middle;\n    }\n\n    .dataframe tbody tr th {\n        vertical-align: top;\n    }\n\n    .dataframe thead th {\n        text-align: right;\n    }\n</style>\n<table border=\"1\" class=\"dataframe\">\n  <thead>\n    <tr style=\"text-align: right;\">\n      <th></th>\n      <th>Kỹ năng mềm</th>\n      <th>Đại số tuyến tính</th>\n      <th>Giải tích 1</th>\n      <th>Tin học đại cương</th>\n      <th>Vật lý điện từ</th>\n      <th>Giải tích 2</th>\n      <th>Lập trình nâng cao</th>\n      <th>Môn tự chọn 1</th>\n      <th>Thiết kế Web</th>\n      <th>Toán rời rạc</th>\n      <th>Cấu trúc dữ liệu và giải thuật</th>\n      <th>Kiến trúc và tổ chức máy tính</th>\n      <th>Lập trình hướng đối tượng</th>\n      <th>Xác suất thống kê</th>\n      <th>Hệ điều hành</th>\n      <th>Công nghệ Java</th>\n      <th>Cơ sở dữ liệu</th>\n      <th>Phân tích thiết kế thuật toán</th>\n      <th>Xếp loại học tập</th>\n    </tr>\n  </thead>\n  <tbody>\n    <tr>\n      <th>0</th>\n      <td>1</td>\n      <td>1</td>\n      <td>1</td>\n      <td>1</td>\n      <td>2</td>\n      <td>2</td>\n      <td>2</td>\n      <td>3, 3</td>\n      <td>3</td>\n      <td>3</td>\n      <td>3</td>\n      <td>3</td>\n      <td>3</td>\n      <td>4</td>\n      <td>4</td>\n      <td>4</td>\n      <td>4</td>\n      <td>4</td>\n      <td>NaN</td>\n    </tr>\n    <tr>\n      <th>1</th>\n      <td>2</td>\n      <td>3</td>\n      <td>3</td>\n      <td>3</td>\n      <td>3</td>\n      <td>3</td>\n      <td>3</td>\n      <td>2, 2</td>\n      <td>3</td>\n      <td>3</td>\n      <td>3</td>\n      <td>3</td>\n      <td>3</td>\n      <td>2</td>\n      <td>3</td>\n      <td>3</td>\n      <td>3</td>\n      <td>3</td>\n      <td>NaN</td>\n    </tr>\n    <tr>\n      <th>2</th>\n      <td>4.9</td>\n      <td>4.4</td>\n      <td>5.3</td>\n      <td>6.8</td>\n      <td>4.6</td>\n      <td>6.0</td>\n      <td>2.1, 8.3</td>\n      <td>5.1</td>\n      <td>6.6</td>\n      <td>5.8</td>\n      <td>4.8</td>\n      <td>3.5, 8.4</td>\n      <td>6.7</td>\n      <td>7.1</td>\n      <td>5.2</td>\n      <td>8.3</td>\n      <td>5.8</td>\n      <td>7.2</td>\n      <td>Khá</td>\n    </tr>\n    <tr>\n      <th>3</th>\n      <td>7.6</td>\n      <td>6.4</td>\n      <td>8.8</td>\n      <td>5.2</td>\n      <td>6.0</td>\n      <td>8.0</td>\n      <td>9.4</td>\n      <td>5.7</td>\n      <td>4.2</td>\n      <td>6.1</td>\n      <td>7.5</td>\n      <td>6.7</td>\n      <td>8.1</td>\n      <td>8.7</td>\n      <td>9.6</td>\n      <td>6.8</td>\n      <td>8.7</td>\n      <td>8.5</td>\n      <td>Giỏi</td>\n    </tr>\n    <tr>\n      <th>4</th>\n      <td>6.3</td>\n      <td>6.7</td>\n      <td>6.7</td>\n      <td>7.5</td>\n      <td>6.2</td>\n      <td>4.5</td>\n      <td>6.2</td>\n      <td>5.4</td>\n      <td>5.3</td>\n      <td>4.8</td>\n      <td>6.5</td>\n      <td>5.9</td>\n      <td>6.9</td>\n      <td>3.0, 6.0</td>\n      <td>5.5</td>\n      <td>8.1</td>\n      <td>6.6</td>\n      <td>7.7</td>\n      <td>Khá</td>\n    </tr>\n    <tr>\n      <th>...</th>\n      <td>...</td>\n      <td>...</td>\n      <td>...</td>\n      <td>...</td>\n      <td>...</td>\n      <td>...</td>\n      <td>...</td>\n      <td>...</td>\n      <td>...</td>\n      <td>...</td>\n      <td>...</td>\n      <td>...</td>\n      <td>...</td>\n      <td>...</td>\n      <td>...</td>\n      <td>...</td>\n      <td>...</td>\n      <td>...</td>\n      <td>...</td>\n    </tr>\n    <tr>\n      <th>680</th>\n      <td>7.50</td>\n      <td>6.30</td>\n      <td>5.60</td>\n      <td>8.50</td>\n      <td>5</td>\n      <td>9.10</td>\n      <td>8.10</td>\n      <td>5.90</td>\n      <td>5.90</td>\n      <td>6.10</td>\n      <td>6</td>\n      <td>5.60</td>\n      <td>4.30</td>\n      <td>5</td>\n      <td>3.40</td>\n      <td>0, 6.3</td>\n      <td>3.40, 8.1</td>\n      <td>7.30</td>\n      <td>Chưa Xếp Loại</td>\n    </tr>\n    <tr>\n      <th>681</th>\n      <td>7</td>\n      <td>5.20</td>\n      <td>5.50</td>\n      <td>4.60</td>\n      <td>2.60, 7</td>\n      <td>2.80, 7.7</td>\n      <td>2.70, 7.3</td>\n      <td>7.20</td>\n      <td>1.20, 5</td>\n      <td>5.20</td>\n      <td>7</td>\n      <td>5.80</td>\n      <td>2.90, 6.2</td>\n      <td>1.70, 4.5</td>\n      <td>4</td>\n      <td>0, 7.3</td>\n      <td>1.30, 5.2</td>\n      <td>6.40</td>\n      <td>Chưa Xếp Loại</td>\n    </tr>\n    <tr>\n      <th>682</th>\n      <td>8.60</td>\n      <td>7.80</td>\n      <td>5.30</td>\n      <td>8.60</td>\n      <td>5.90</td>\n      <td>7.10</td>\n      <td>5.10</td>\n      <td>3, 6.9</td>\n      <td>5.80</td>\n      <td>5</td>\n      <td>7</td>\n      <td>6.40</td>\n      <td>8.10</td>\n      <td>5.30</td>\n      <td>6.30</td>\n      <td>7.20</td>\n      <td>6.10</td>\n      <td>7.70</td>\n      <td>Chưa Xếp Loại</td>\n    </tr>\n    <tr>\n      <th>683</th>\n      <td>7.70</td>\n      <td>9.60</td>\n      <td>6</td>\n      <td>8.20</td>\n      <td>7</td>\n      <td>7.30</td>\n      <td>9.70</td>\n      <td>9.30</td>\n      <td>5.70</td>\n      <td>6.70</td>\n      <td>8.40</td>\n      <td>6.20</td>\n      <td>9.70</td>\n      <td>8.10</td>\n      <td>7.20</td>\n      <td>9</td>\n      <td>7.70</td>\n      <td>8.70</td>\n      <td>Chưa Xếp Loại</td>\n    </tr>\n    <tr>\n      <th>684</th>\n      <td>7.70</td>\n      <td>7.10</td>\n      <td>8.40</td>\n      <td>4.90</td>\n      <td>4.70</td>\n      <td>4.20</td>\n      <td>4.70</td>\n      <td>6.20</td>\n      <td>1.90, 4.8</td>\n      <td>6.30</td>\n      <td>6.90</td>\n      <td>5.50</td>\n      <td>5</td>\n      <td>2.10, 5</td>\n      <td>5.10</td>\n      <td>0, 5.8</td>\n      <td>3.60, 7.3</td>\n      <td>6.80</td>\n      <td>Chưa Xếp Loại</td>\n    </tr>\n  </tbody>\n</table>\n<p>685 rows × 19 columns</p>\n</div>"
     },
     "execution_count": 4,
     "metadata": {},
     "output_type": "execute_result"
    }
   ],
   "source": [
    "pima=pima.drop(columns=['Triết học Mác- Lê Nin F1','Những nguyên lý cơ bản của chủ nghĩa Mác- Lê Nin F1','Những nguyên lý cơ bản của chủ nghĩa Mác- Lê Nin F2','Chủ nghĩa xã hội khoa học','Kinh tế chính trị Mác-Lênin','Lịch sử Đảng Cộng sản Việt Nam','Tư tưởng Hồ Chí Minh'])\n",
    "pima"
   ],
   "metadata": {
    "collapsed": false,
    "ExecuteTime": {
     "end_time": "2025-03-22T02:47:30.774458Z",
     "start_time": "2025-03-22T02:47:30.734921Z"
    }
   },
   "id": "7d509e569f717b45",
   "execution_count": 4
  },
  {
   "cell_type": "code",
   "outputs": [],
   "source": [
    "for index, row in pima.iterrows():\n",
    "    # Duyệt qua từng ô trong hàng\n",
    "    for column in pima.columns:\n",
    "        # Kiểm tra xem có dấu phẩy giữa hai giá trị không\n",
    "        if ',' in str(row[column]):\n",
    "            # Tách giá trị thành hai phần\n",
    "            values = str(row[column]).split(',')\n",
    "            # Chuyển đổi các giá trị thành số nguyên\n",
    "            values = [float(value) if value != '' else np.nan for value in values]\n",
    "            # Lấy giá trị lớn hơn\n",
    "            max_value = max(values)\n",
    "            # Cập nhật lại giá trị trong ô thành giá trị lớn hơn\n",
    "            pima.at[index, column] = max_value"
   ],
   "metadata": {
    "collapsed": false,
    "ExecuteTime": {
     "end_time": "2025-03-22T02:47:32.550774Z",
     "start_time": "2025-03-22T02:47:32.427052Z"
    }
   },
   "id": "6ac0a4a92dbe93a0",
   "execution_count": 5
  },
  {
   "cell_type": "code",
   "outputs": [],
   "source": [
    "pima=pima.drop([0,1])\n",
    "pima=pima.fillna(0)"
   ],
   "metadata": {
    "collapsed": false,
    "ExecuteTime": {
     "end_time": "2025-03-22T02:47:34.253399Z",
     "start_time": "2025-03-22T02:47:34.232180Z"
    }
   },
   "id": "8d06b4999e324208",
   "execution_count": 6
  },
  {
   "cell_type": "code",
   "outputs": [],
   "source": [
    "pima.to_excel('data/year2_clean.xlsx',index=False)\n",
    "df=pima.copy()\n",
    "X=df.drop('Xếp loại học tập',axis=1)\n",
    "Y= df['Xếp loại học tập']"
   ],
   "metadata": {
    "collapsed": false,
    "ExecuteTime": {
     "end_time": "2025-03-22T02:47:36.363865Z",
     "start_time": "2025-03-22T02:47:35.665850Z"
    }
   },
   "id": "f5a48854e343a345",
   "execution_count": 7
  },
  {
   "cell_type": "code",
   "outputs": [
    {
     "data": {
      "text/plain": "DecisionTreeClassifier(criterion='entropy')",
      "text/html": "<style>#sk-container-id-1 {\n  /* Definition of color scheme common for light and dark mode */\n  --sklearn-color-text: #000;\n  --sklearn-color-text-muted: #666;\n  --sklearn-color-line: gray;\n  /* Definition of color scheme for unfitted estimators */\n  --sklearn-color-unfitted-level-0: #fff5e6;\n  --sklearn-color-unfitted-level-1: #f6e4d2;\n  --sklearn-color-unfitted-level-2: #ffe0b3;\n  --sklearn-color-unfitted-level-3: chocolate;\n  /* Definition of color scheme for fitted estimators */\n  --sklearn-color-fitted-level-0: #f0f8ff;\n  --sklearn-color-fitted-level-1: #d4ebff;\n  --sklearn-color-fitted-level-2: #b3dbfd;\n  --sklearn-color-fitted-level-3: cornflowerblue;\n\n  /* Specific color for light theme */\n  --sklearn-color-text-on-default-background: var(--sg-text-color, var(--theme-code-foreground, var(--jp-content-font-color1, black)));\n  --sklearn-color-background: var(--sg-background-color, var(--theme-background, var(--jp-layout-color0, white)));\n  --sklearn-color-border-box: var(--sg-text-color, var(--theme-code-foreground, var(--jp-content-font-color1, black)));\n  --sklearn-color-icon: #696969;\n\n  @media (prefers-color-scheme: dark) {\n    /* Redefinition of color scheme for dark theme */\n    --sklearn-color-text-on-default-background: var(--sg-text-color, var(--theme-code-foreground, var(--jp-content-font-color1, white)));\n    --sklearn-color-background: var(--sg-background-color, var(--theme-background, var(--jp-layout-color0, #111)));\n    --sklearn-color-border-box: var(--sg-text-color, var(--theme-code-foreground, var(--jp-content-font-color1, white)));\n    --sklearn-color-icon: #878787;\n  }\n}\n\n#sk-container-id-1 {\n  color: var(--sklearn-color-text);\n}\n\n#sk-container-id-1 pre {\n  padding: 0;\n}\n\n#sk-container-id-1 input.sk-hidden--visually {\n  border: 0;\n  clip: rect(1px 1px 1px 1px);\n  clip: rect(1px, 1px, 1px, 1px);\n  height: 1px;\n  margin: -1px;\n  overflow: hidden;\n  padding: 0;\n  position: absolute;\n  width: 1px;\n}\n\n#sk-container-id-1 div.sk-dashed-wrapped {\n  border: 1px dashed var(--sklearn-color-line);\n  margin: 0 0.4em 0.5em 0.4em;\n  box-sizing: border-box;\n  padding-bottom: 0.4em;\n  background-color: var(--sklearn-color-background);\n}\n\n#sk-container-id-1 div.sk-container {\n  /* jupyter's `normalize.less` sets `[hidden] { display: none; }`\n     but bootstrap.min.css set `[hidden] { display: none !important; }`\n     so we also need the `!important` here to be able to override the\n     default hidden behavior on the sphinx rendered scikit-learn.org.\n     See: https://github.com/scikit-learn/scikit-learn/issues/21755 */\n  display: inline-block !important;\n  position: relative;\n}\n\n#sk-container-id-1 div.sk-text-repr-fallback {\n  display: none;\n}\n\ndiv.sk-parallel-item,\ndiv.sk-serial,\ndiv.sk-item {\n  /* draw centered vertical line to link estimators */\n  background-image: linear-gradient(var(--sklearn-color-text-on-default-background), var(--sklearn-color-text-on-default-background));\n  background-size: 2px 100%;\n  background-repeat: no-repeat;\n  background-position: center center;\n}\n\n/* Parallel-specific style estimator block */\n\n#sk-container-id-1 div.sk-parallel-item::after {\n  content: \"\";\n  width: 100%;\n  border-bottom: 2px solid var(--sklearn-color-text-on-default-background);\n  flex-grow: 1;\n}\n\n#sk-container-id-1 div.sk-parallel {\n  display: flex;\n  align-items: stretch;\n  justify-content: center;\n  background-color: var(--sklearn-color-background);\n  position: relative;\n}\n\n#sk-container-id-1 div.sk-parallel-item {\n  display: flex;\n  flex-direction: column;\n}\n\n#sk-container-id-1 div.sk-parallel-item:first-child::after {\n  align-self: flex-end;\n  width: 50%;\n}\n\n#sk-container-id-1 div.sk-parallel-item:last-child::after {\n  align-self: flex-start;\n  width: 50%;\n}\n\n#sk-container-id-1 div.sk-parallel-item:only-child::after {\n  width: 0;\n}\n\n/* Serial-specific style estimator block */\n\n#sk-container-id-1 div.sk-serial {\n  display: flex;\n  flex-direction: column;\n  align-items: center;\n  background-color: var(--sklearn-color-background);\n  padding-right: 1em;\n  padding-left: 1em;\n}\n\n\n/* Toggleable style: style used for estimator/Pipeline/ColumnTransformer box that is\nclickable and can be expanded/collapsed.\n- Pipeline and ColumnTransformer use this feature and define the default style\n- Estimators will overwrite some part of the style using the `sk-estimator` class\n*/\n\n/* Pipeline and ColumnTransformer style (default) */\n\n#sk-container-id-1 div.sk-toggleable {\n  /* Default theme specific background. It is overwritten whether we have a\n  specific estimator or a Pipeline/ColumnTransformer */\n  background-color: var(--sklearn-color-background);\n}\n\n/* Toggleable label */\n#sk-container-id-1 label.sk-toggleable__label {\n  cursor: pointer;\n  display: flex;\n  width: 100%;\n  margin-bottom: 0;\n  padding: 0.5em;\n  box-sizing: border-box;\n  text-align: center;\n  align-items: start;\n  justify-content: space-between;\n  gap: 0.5em;\n}\n\n#sk-container-id-1 label.sk-toggleable__label .caption {\n  font-size: 0.6rem;\n  font-weight: lighter;\n  color: var(--sklearn-color-text-muted);\n}\n\n#sk-container-id-1 label.sk-toggleable__label-arrow:before {\n  /* Arrow on the left of the label */\n  content: \"▸\";\n  float: left;\n  margin-right: 0.25em;\n  color: var(--sklearn-color-icon);\n}\n\n#sk-container-id-1 label.sk-toggleable__label-arrow:hover:before {\n  color: var(--sklearn-color-text);\n}\n\n/* Toggleable content - dropdown */\n\n#sk-container-id-1 div.sk-toggleable__content {\n  max-height: 0;\n  max-width: 0;\n  overflow: hidden;\n  text-align: left;\n  /* unfitted */\n  background-color: var(--sklearn-color-unfitted-level-0);\n}\n\n#sk-container-id-1 div.sk-toggleable__content.fitted {\n  /* fitted */\n  background-color: var(--sklearn-color-fitted-level-0);\n}\n\n#sk-container-id-1 div.sk-toggleable__content pre {\n  margin: 0.2em;\n  border-radius: 0.25em;\n  color: var(--sklearn-color-text);\n  /* unfitted */\n  background-color: var(--sklearn-color-unfitted-level-0);\n}\n\n#sk-container-id-1 div.sk-toggleable__content.fitted pre {\n  /* unfitted */\n  background-color: var(--sklearn-color-fitted-level-0);\n}\n\n#sk-container-id-1 input.sk-toggleable__control:checked~div.sk-toggleable__content {\n  /* Expand drop-down */\n  max-height: 200px;\n  max-width: 100%;\n  overflow: auto;\n}\n\n#sk-container-id-1 input.sk-toggleable__control:checked~label.sk-toggleable__label-arrow:before {\n  content: \"▾\";\n}\n\n/* Pipeline/ColumnTransformer-specific style */\n\n#sk-container-id-1 div.sk-label input.sk-toggleable__control:checked~label.sk-toggleable__label {\n  color: var(--sklearn-color-text);\n  background-color: var(--sklearn-color-unfitted-level-2);\n}\n\n#sk-container-id-1 div.sk-label.fitted input.sk-toggleable__control:checked~label.sk-toggleable__label {\n  background-color: var(--sklearn-color-fitted-level-2);\n}\n\n/* Estimator-specific style */\n\n/* Colorize estimator box */\n#sk-container-id-1 div.sk-estimator input.sk-toggleable__control:checked~label.sk-toggleable__label {\n  /* unfitted */\n  background-color: var(--sklearn-color-unfitted-level-2);\n}\n\n#sk-container-id-1 div.sk-estimator.fitted input.sk-toggleable__control:checked~label.sk-toggleable__label {\n  /* fitted */\n  background-color: var(--sklearn-color-fitted-level-2);\n}\n\n#sk-container-id-1 div.sk-label label.sk-toggleable__label,\n#sk-container-id-1 div.sk-label label {\n  /* The background is the default theme color */\n  color: var(--sklearn-color-text-on-default-background);\n}\n\n/* On hover, darken the color of the background */\n#sk-container-id-1 div.sk-label:hover label.sk-toggleable__label {\n  color: var(--sklearn-color-text);\n  background-color: var(--sklearn-color-unfitted-level-2);\n}\n\n/* Label box, darken color on hover, fitted */\n#sk-container-id-1 div.sk-label.fitted:hover label.sk-toggleable__label.fitted {\n  color: var(--sklearn-color-text);\n  background-color: var(--sklearn-color-fitted-level-2);\n}\n\n/* Estimator label */\n\n#sk-container-id-1 div.sk-label label {\n  font-family: monospace;\n  font-weight: bold;\n  display: inline-block;\n  line-height: 1.2em;\n}\n\n#sk-container-id-1 div.sk-label-container {\n  text-align: center;\n}\n\n/* Estimator-specific */\n#sk-container-id-1 div.sk-estimator {\n  font-family: monospace;\n  border: 1px dotted var(--sklearn-color-border-box);\n  border-radius: 0.25em;\n  box-sizing: border-box;\n  margin-bottom: 0.5em;\n  /* unfitted */\n  background-color: var(--sklearn-color-unfitted-level-0);\n}\n\n#sk-container-id-1 div.sk-estimator.fitted {\n  /* fitted */\n  background-color: var(--sklearn-color-fitted-level-0);\n}\n\n/* on hover */\n#sk-container-id-1 div.sk-estimator:hover {\n  /* unfitted */\n  background-color: var(--sklearn-color-unfitted-level-2);\n}\n\n#sk-container-id-1 div.sk-estimator.fitted:hover {\n  /* fitted */\n  background-color: var(--sklearn-color-fitted-level-2);\n}\n\n/* Specification for estimator info (e.g. \"i\" and \"?\") */\n\n/* Common style for \"i\" and \"?\" */\n\n.sk-estimator-doc-link,\na:link.sk-estimator-doc-link,\na:visited.sk-estimator-doc-link {\n  float: right;\n  font-size: smaller;\n  line-height: 1em;\n  font-family: monospace;\n  background-color: var(--sklearn-color-background);\n  border-radius: 1em;\n  height: 1em;\n  width: 1em;\n  text-decoration: none !important;\n  margin-left: 0.5em;\n  text-align: center;\n  /* unfitted */\n  border: var(--sklearn-color-unfitted-level-1) 1pt solid;\n  color: var(--sklearn-color-unfitted-level-1);\n}\n\n.sk-estimator-doc-link.fitted,\na:link.sk-estimator-doc-link.fitted,\na:visited.sk-estimator-doc-link.fitted {\n  /* fitted */\n  border: var(--sklearn-color-fitted-level-1) 1pt solid;\n  color: var(--sklearn-color-fitted-level-1);\n}\n\n/* On hover */\ndiv.sk-estimator:hover .sk-estimator-doc-link:hover,\n.sk-estimator-doc-link:hover,\ndiv.sk-label-container:hover .sk-estimator-doc-link:hover,\n.sk-estimator-doc-link:hover {\n  /* unfitted */\n  background-color: var(--sklearn-color-unfitted-level-3);\n  color: var(--sklearn-color-background);\n  text-decoration: none;\n}\n\ndiv.sk-estimator.fitted:hover .sk-estimator-doc-link.fitted:hover,\n.sk-estimator-doc-link.fitted:hover,\ndiv.sk-label-container:hover .sk-estimator-doc-link.fitted:hover,\n.sk-estimator-doc-link.fitted:hover {\n  /* fitted */\n  background-color: var(--sklearn-color-fitted-level-3);\n  color: var(--sklearn-color-background);\n  text-decoration: none;\n}\n\n/* Span, style for the box shown on hovering the info icon */\n.sk-estimator-doc-link span {\n  display: none;\n  z-index: 9999;\n  position: relative;\n  font-weight: normal;\n  right: .2ex;\n  padding: .5ex;\n  margin: .5ex;\n  width: min-content;\n  min-width: 20ex;\n  max-width: 50ex;\n  color: var(--sklearn-color-text);\n  box-shadow: 2pt 2pt 4pt #999;\n  /* unfitted */\n  background: var(--sklearn-color-unfitted-level-0);\n  border: .5pt solid var(--sklearn-color-unfitted-level-3);\n}\n\n.sk-estimator-doc-link.fitted span {\n  /* fitted */\n  background: var(--sklearn-color-fitted-level-0);\n  border: var(--sklearn-color-fitted-level-3);\n}\n\n.sk-estimator-doc-link:hover span {\n  display: block;\n}\n\n/* \"?\"-specific style due to the `<a>` HTML tag */\n\n#sk-container-id-1 a.estimator_doc_link {\n  float: right;\n  font-size: 1rem;\n  line-height: 1em;\n  font-family: monospace;\n  background-color: var(--sklearn-color-background);\n  border-radius: 1rem;\n  height: 1rem;\n  width: 1rem;\n  text-decoration: none;\n  /* unfitted */\n  color: var(--sklearn-color-unfitted-level-1);\n  border: var(--sklearn-color-unfitted-level-1) 1pt solid;\n}\n\n#sk-container-id-1 a.estimator_doc_link.fitted {\n  /* fitted */\n  border: var(--sklearn-color-fitted-level-1) 1pt solid;\n  color: var(--sklearn-color-fitted-level-1);\n}\n\n/* On hover */\n#sk-container-id-1 a.estimator_doc_link:hover {\n  /* unfitted */\n  background-color: var(--sklearn-color-unfitted-level-3);\n  color: var(--sklearn-color-background);\n  text-decoration: none;\n}\n\n#sk-container-id-1 a.estimator_doc_link.fitted:hover {\n  /* fitted */\n  background-color: var(--sklearn-color-fitted-level-3);\n}\n</style><div id=\"sk-container-id-1\" class=\"sk-top-container\"><div class=\"sk-text-repr-fallback\"><pre>DecisionTreeClassifier(criterion=&#x27;entropy&#x27;)</pre><b>In a Jupyter environment, please rerun this cell to show the HTML representation or trust the notebook. <br />On GitHub, the HTML representation is unable to render, please try loading this page with nbviewer.org.</b></div><div class=\"sk-container\" hidden><div class=\"sk-item\"><div class=\"sk-estimator fitted sk-toggleable\"><input class=\"sk-toggleable__control sk-hidden--visually\" id=\"sk-estimator-id-1\" type=\"checkbox\" checked><label for=\"sk-estimator-id-1\" class=\"sk-toggleable__label fitted sk-toggleable__label-arrow\"><div><div>DecisionTreeClassifier</div></div><div><a class=\"sk-estimator-doc-link fitted\" rel=\"noreferrer\" target=\"_blank\" href=\"https://scikit-learn.org/1.6/modules/generated/sklearn.tree.DecisionTreeClassifier.html\">?<span>Documentation for DecisionTreeClassifier</span></a><span class=\"sk-estimator-doc-link fitted\">i<span>Fitted</span></span></div></label><div class=\"sk-toggleable__content fitted\"><pre>DecisionTreeClassifier(criterion=&#x27;entropy&#x27;)</pre></div> </div></div></div></div>"
     },
     "execution_count": 8,
     "metadata": {},
     "output_type": "execute_result"
    }
   ],
   "source": [
    "from sklearn.model_selection import train_test_split # Import train_test_split function\n",
    "from sklearn import metrics #Import scikit-learn metrics module for accuracy calculation\n",
    "# Split dataset into training set and test set\n",
    "X_train, X_test, y_train, y_test = train_test_split(X, Y, test_size=0.3, random_state=1) \n",
    "from sklearn import tree\n",
    "model=tree.DecisionTreeClassifier(criterion=\"entropy\")\n",
    "model.fit(X_train,y_train)"
   ],
   "metadata": {
    "collapsed": false,
    "ExecuteTime": {
     "end_time": "2025-03-22T02:47:38.619561Z",
     "start_time": "2025-03-22T02:47:37.331215Z"
    }
   },
   "id": "1c0233c5e73d312c",
   "execution_count": 8
  },
  {
   "cell_type": "code",
   "outputs": [
    {
     "name": "stdout",
     "output_type": "stream",
     "text": [
      "Accuracy: 0.43414634146341463\n"
     ]
    }
   ],
   "source": [
    "y_pred=model.predict(X_test)\n",
    "print(\"Accuracy:\",metrics.accuracy_score(y_test, y_pred))"
   ],
   "metadata": {
    "collapsed": false,
    "ExecuteTime": {
     "end_time": "2025-03-22T02:47:39.636941Z",
     "start_time": "2025-03-22T02:47:39.610918Z"
    }
   },
   "id": "adf9975c9686c363",
   "execution_count": 9
  },
  {
   "cell_type": "code",
   "outputs": [
    {
     "data": {
      "text/plain": "GaussianNB()",
      "text/html": "<style>#sk-container-id-2 {\n  /* Definition of color scheme common for light and dark mode */\n  --sklearn-color-text: #000;\n  --sklearn-color-text-muted: #666;\n  --sklearn-color-line: gray;\n  /* Definition of color scheme for unfitted estimators */\n  --sklearn-color-unfitted-level-0: #fff5e6;\n  --sklearn-color-unfitted-level-1: #f6e4d2;\n  --sklearn-color-unfitted-level-2: #ffe0b3;\n  --sklearn-color-unfitted-level-3: chocolate;\n  /* Definition of color scheme for fitted estimators */\n  --sklearn-color-fitted-level-0: #f0f8ff;\n  --sklearn-color-fitted-level-1: #d4ebff;\n  --sklearn-color-fitted-level-2: #b3dbfd;\n  --sklearn-color-fitted-level-3: cornflowerblue;\n\n  /* Specific color for light theme */\n  --sklearn-color-text-on-default-background: var(--sg-text-color, var(--theme-code-foreground, var(--jp-content-font-color1, black)));\n  --sklearn-color-background: var(--sg-background-color, var(--theme-background, var(--jp-layout-color0, white)));\n  --sklearn-color-border-box: var(--sg-text-color, var(--theme-code-foreground, var(--jp-content-font-color1, black)));\n  --sklearn-color-icon: #696969;\n\n  @media (prefers-color-scheme: dark) {\n    /* Redefinition of color scheme for dark theme */\n    --sklearn-color-text-on-default-background: var(--sg-text-color, var(--theme-code-foreground, var(--jp-content-font-color1, white)));\n    --sklearn-color-background: var(--sg-background-color, var(--theme-background, var(--jp-layout-color0, #111)));\n    --sklearn-color-border-box: var(--sg-text-color, var(--theme-code-foreground, var(--jp-content-font-color1, white)));\n    --sklearn-color-icon: #878787;\n  }\n}\n\n#sk-container-id-2 {\n  color: var(--sklearn-color-text);\n}\n\n#sk-container-id-2 pre {\n  padding: 0;\n}\n\n#sk-container-id-2 input.sk-hidden--visually {\n  border: 0;\n  clip: rect(1px 1px 1px 1px);\n  clip: rect(1px, 1px, 1px, 1px);\n  height: 1px;\n  margin: -1px;\n  overflow: hidden;\n  padding: 0;\n  position: absolute;\n  width: 1px;\n}\n\n#sk-container-id-2 div.sk-dashed-wrapped {\n  border: 1px dashed var(--sklearn-color-line);\n  margin: 0 0.4em 0.5em 0.4em;\n  box-sizing: border-box;\n  padding-bottom: 0.4em;\n  background-color: var(--sklearn-color-background);\n}\n\n#sk-container-id-2 div.sk-container {\n  /* jupyter's `normalize.less` sets `[hidden] { display: none; }`\n     but bootstrap.min.css set `[hidden] { display: none !important; }`\n     so we also need the `!important` here to be able to override the\n     default hidden behavior on the sphinx rendered scikit-learn.org.\n     See: https://github.com/scikit-learn/scikit-learn/issues/21755 */\n  display: inline-block !important;\n  position: relative;\n}\n\n#sk-container-id-2 div.sk-text-repr-fallback {\n  display: none;\n}\n\ndiv.sk-parallel-item,\ndiv.sk-serial,\ndiv.sk-item {\n  /* draw centered vertical line to link estimators */\n  background-image: linear-gradient(var(--sklearn-color-text-on-default-background), var(--sklearn-color-text-on-default-background));\n  background-size: 2px 100%;\n  background-repeat: no-repeat;\n  background-position: center center;\n}\n\n/* Parallel-specific style estimator block */\n\n#sk-container-id-2 div.sk-parallel-item::after {\n  content: \"\";\n  width: 100%;\n  border-bottom: 2px solid var(--sklearn-color-text-on-default-background);\n  flex-grow: 1;\n}\n\n#sk-container-id-2 div.sk-parallel {\n  display: flex;\n  align-items: stretch;\n  justify-content: center;\n  background-color: var(--sklearn-color-background);\n  position: relative;\n}\n\n#sk-container-id-2 div.sk-parallel-item {\n  display: flex;\n  flex-direction: column;\n}\n\n#sk-container-id-2 div.sk-parallel-item:first-child::after {\n  align-self: flex-end;\n  width: 50%;\n}\n\n#sk-container-id-2 div.sk-parallel-item:last-child::after {\n  align-self: flex-start;\n  width: 50%;\n}\n\n#sk-container-id-2 div.sk-parallel-item:only-child::after {\n  width: 0;\n}\n\n/* Serial-specific style estimator block */\n\n#sk-container-id-2 div.sk-serial {\n  display: flex;\n  flex-direction: column;\n  align-items: center;\n  background-color: var(--sklearn-color-background);\n  padding-right: 1em;\n  padding-left: 1em;\n}\n\n\n/* Toggleable style: style used for estimator/Pipeline/ColumnTransformer box that is\nclickable and can be expanded/collapsed.\n- Pipeline and ColumnTransformer use this feature and define the default style\n- Estimators will overwrite some part of the style using the `sk-estimator` class\n*/\n\n/* Pipeline and ColumnTransformer style (default) */\n\n#sk-container-id-2 div.sk-toggleable {\n  /* Default theme specific background. It is overwritten whether we have a\n  specific estimator or a Pipeline/ColumnTransformer */\n  background-color: var(--sklearn-color-background);\n}\n\n/* Toggleable label */\n#sk-container-id-2 label.sk-toggleable__label {\n  cursor: pointer;\n  display: flex;\n  width: 100%;\n  margin-bottom: 0;\n  padding: 0.5em;\n  box-sizing: border-box;\n  text-align: center;\n  align-items: start;\n  justify-content: space-between;\n  gap: 0.5em;\n}\n\n#sk-container-id-2 label.sk-toggleable__label .caption {\n  font-size: 0.6rem;\n  font-weight: lighter;\n  color: var(--sklearn-color-text-muted);\n}\n\n#sk-container-id-2 label.sk-toggleable__label-arrow:before {\n  /* Arrow on the left of the label */\n  content: \"▸\";\n  float: left;\n  margin-right: 0.25em;\n  color: var(--sklearn-color-icon);\n}\n\n#sk-container-id-2 label.sk-toggleable__label-arrow:hover:before {\n  color: var(--sklearn-color-text);\n}\n\n/* Toggleable content - dropdown */\n\n#sk-container-id-2 div.sk-toggleable__content {\n  max-height: 0;\n  max-width: 0;\n  overflow: hidden;\n  text-align: left;\n  /* unfitted */\n  background-color: var(--sklearn-color-unfitted-level-0);\n}\n\n#sk-container-id-2 div.sk-toggleable__content.fitted {\n  /* fitted */\n  background-color: var(--sklearn-color-fitted-level-0);\n}\n\n#sk-container-id-2 div.sk-toggleable__content pre {\n  margin: 0.2em;\n  border-radius: 0.25em;\n  color: var(--sklearn-color-text);\n  /* unfitted */\n  background-color: var(--sklearn-color-unfitted-level-0);\n}\n\n#sk-container-id-2 div.sk-toggleable__content.fitted pre {\n  /* unfitted */\n  background-color: var(--sklearn-color-fitted-level-0);\n}\n\n#sk-container-id-2 input.sk-toggleable__control:checked~div.sk-toggleable__content {\n  /* Expand drop-down */\n  max-height: 200px;\n  max-width: 100%;\n  overflow: auto;\n}\n\n#sk-container-id-2 input.sk-toggleable__control:checked~label.sk-toggleable__label-arrow:before {\n  content: \"▾\";\n}\n\n/* Pipeline/ColumnTransformer-specific style */\n\n#sk-container-id-2 div.sk-label input.sk-toggleable__control:checked~label.sk-toggleable__label {\n  color: var(--sklearn-color-text);\n  background-color: var(--sklearn-color-unfitted-level-2);\n}\n\n#sk-container-id-2 div.sk-label.fitted input.sk-toggleable__control:checked~label.sk-toggleable__label {\n  background-color: var(--sklearn-color-fitted-level-2);\n}\n\n/* Estimator-specific style */\n\n/* Colorize estimator box */\n#sk-container-id-2 div.sk-estimator input.sk-toggleable__control:checked~label.sk-toggleable__label {\n  /* unfitted */\n  background-color: var(--sklearn-color-unfitted-level-2);\n}\n\n#sk-container-id-2 div.sk-estimator.fitted input.sk-toggleable__control:checked~label.sk-toggleable__label {\n  /* fitted */\n  background-color: var(--sklearn-color-fitted-level-2);\n}\n\n#sk-container-id-2 div.sk-label label.sk-toggleable__label,\n#sk-container-id-2 div.sk-label label {\n  /* The background is the default theme color */\n  color: var(--sklearn-color-text-on-default-background);\n}\n\n/* On hover, darken the color of the background */\n#sk-container-id-2 div.sk-label:hover label.sk-toggleable__label {\n  color: var(--sklearn-color-text);\n  background-color: var(--sklearn-color-unfitted-level-2);\n}\n\n/* Label box, darken color on hover, fitted */\n#sk-container-id-2 div.sk-label.fitted:hover label.sk-toggleable__label.fitted {\n  color: var(--sklearn-color-text);\n  background-color: var(--sklearn-color-fitted-level-2);\n}\n\n/* Estimator label */\n\n#sk-container-id-2 div.sk-label label {\n  font-family: monospace;\n  font-weight: bold;\n  display: inline-block;\n  line-height: 1.2em;\n}\n\n#sk-container-id-2 div.sk-label-container {\n  text-align: center;\n}\n\n/* Estimator-specific */\n#sk-container-id-2 div.sk-estimator {\n  font-family: monospace;\n  border: 1px dotted var(--sklearn-color-border-box);\n  border-radius: 0.25em;\n  box-sizing: border-box;\n  margin-bottom: 0.5em;\n  /* unfitted */\n  background-color: var(--sklearn-color-unfitted-level-0);\n}\n\n#sk-container-id-2 div.sk-estimator.fitted {\n  /* fitted */\n  background-color: var(--sklearn-color-fitted-level-0);\n}\n\n/* on hover */\n#sk-container-id-2 div.sk-estimator:hover {\n  /* unfitted */\n  background-color: var(--sklearn-color-unfitted-level-2);\n}\n\n#sk-container-id-2 div.sk-estimator.fitted:hover {\n  /* fitted */\n  background-color: var(--sklearn-color-fitted-level-2);\n}\n\n/* Specification for estimator info (e.g. \"i\" and \"?\") */\n\n/* Common style for \"i\" and \"?\" */\n\n.sk-estimator-doc-link,\na:link.sk-estimator-doc-link,\na:visited.sk-estimator-doc-link {\n  float: right;\n  font-size: smaller;\n  line-height: 1em;\n  font-family: monospace;\n  background-color: var(--sklearn-color-background);\n  border-radius: 1em;\n  height: 1em;\n  width: 1em;\n  text-decoration: none !important;\n  margin-left: 0.5em;\n  text-align: center;\n  /* unfitted */\n  border: var(--sklearn-color-unfitted-level-1) 1pt solid;\n  color: var(--sklearn-color-unfitted-level-1);\n}\n\n.sk-estimator-doc-link.fitted,\na:link.sk-estimator-doc-link.fitted,\na:visited.sk-estimator-doc-link.fitted {\n  /* fitted */\n  border: var(--sklearn-color-fitted-level-1) 1pt solid;\n  color: var(--sklearn-color-fitted-level-1);\n}\n\n/* On hover */\ndiv.sk-estimator:hover .sk-estimator-doc-link:hover,\n.sk-estimator-doc-link:hover,\ndiv.sk-label-container:hover .sk-estimator-doc-link:hover,\n.sk-estimator-doc-link:hover {\n  /* unfitted */\n  background-color: var(--sklearn-color-unfitted-level-3);\n  color: var(--sklearn-color-background);\n  text-decoration: none;\n}\n\ndiv.sk-estimator.fitted:hover .sk-estimator-doc-link.fitted:hover,\n.sk-estimator-doc-link.fitted:hover,\ndiv.sk-label-container:hover .sk-estimator-doc-link.fitted:hover,\n.sk-estimator-doc-link.fitted:hover {\n  /* fitted */\n  background-color: var(--sklearn-color-fitted-level-3);\n  color: var(--sklearn-color-background);\n  text-decoration: none;\n}\n\n/* Span, style for the box shown on hovering the info icon */\n.sk-estimator-doc-link span {\n  display: none;\n  z-index: 9999;\n  position: relative;\n  font-weight: normal;\n  right: .2ex;\n  padding: .5ex;\n  margin: .5ex;\n  width: min-content;\n  min-width: 20ex;\n  max-width: 50ex;\n  color: var(--sklearn-color-text);\n  box-shadow: 2pt 2pt 4pt #999;\n  /* unfitted */\n  background: var(--sklearn-color-unfitted-level-0);\n  border: .5pt solid var(--sklearn-color-unfitted-level-3);\n}\n\n.sk-estimator-doc-link.fitted span {\n  /* fitted */\n  background: var(--sklearn-color-fitted-level-0);\n  border: var(--sklearn-color-fitted-level-3);\n}\n\n.sk-estimator-doc-link:hover span {\n  display: block;\n}\n\n/* \"?\"-specific style due to the `<a>` HTML tag */\n\n#sk-container-id-2 a.estimator_doc_link {\n  float: right;\n  font-size: 1rem;\n  line-height: 1em;\n  font-family: monospace;\n  background-color: var(--sklearn-color-background);\n  border-radius: 1rem;\n  height: 1rem;\n  width: 1rem;\n  text-decoration: none;\n  /* unfitted */\n  color: var(--sklearn-color-unfitted-level-1);\n  border: var(--sklearn-color-unfitted-level-1) 1pt solid;\n}\n\n#sk-container-id-2 a.estimator_doc_link.fitted {\n  /* fitted */\n  border: var(--sklearn-color-fitted-level-1) 1pt solid;\n  color: var(--sklearn-color-fitted-level-1);\n}\n\n/* On hover */\n#sk-container-id-2 a.estimator_doc_link:hover {\n  /* unfitted */\n  background-color: var(--sklearn-color-unfitted-level-3);\n  color: var(--sklearn-color-background);\n  text-decoration: none;\n}\n\n#sk-container-id-2 a.estimator_doc_link.fitted:hover {\n  /* fitted */\n  background-color: var(--sklearn-color-fitted-level-3);\n}\n</style><div id=\"sk-container-id-2\" class=\"sk-top-container\"><div class=\"sk-text-repr-fallback\"><pre>GaussianNB()</pre><b>In a Jupyter environment, please rerun this cell to show the HTML representation or trust the notebook. <br />On GitHub, the HTML representation is unable to render, please try loading this page with nbviewer.org.</b></div><div class=\"sk-container\" hidden><div class=\"sk-item\"><div class=\"sk-estimator fitted sk-toggleable\"><input class=\"sk-toggleable__control sk-hidden--visually\" id=\"sk-estimator-id-2\" type=\"checkbox\" checked><label for=\"sk-estimator-id-2\" class=\"sk-toggleable__label fitted sk-toggleable__label-arrow\"><div><div>GaussianNB</div></div><div><a class=\"sk-estimator-doc-link fitted\" rel=\"noreferrer\" target=\"_blank\" href=\"https://scikit-learn.org/1.6/modules/generated/sklearn.naive_bayes.GaussianNB.html\">?<span>Documentation for GaussianNB</span></a><span class=\"sk-estimator-doc-link fitted\">i<span>Fitted</span></span></div></label><div class=\"sk-toggleable__content fitted\"><pre>GaussianNB()</pre></div> </div></div></div></div>"
     },
     "execution_count": 10,
     "metadata": {},
     "output_type": "execute_result"
    }
   ],
   "source": [
    "#naive bayes\n",
    "from sklearn.naive_bayes import GaussianNB\n",
    "# Build a Gaussian Classifier\n",
    "model_naive = GaussianNB()\n",
    "model_naive.fit(X_train, y_train)"
   ],
   "metadata": {
    "collapsed": false,
    "ExecuteTime": {
     "end_time": "2025-03-22T02:47:41.762946Z",
     "start_time": "2025-03-22T02:47:41.736234Z"
    }
   },
   "id": "8c8bfa478fd9c638",
   "execution_count": 10
  },
  {
   "cell_type": "code",
   "outputs": [
    {
     "name": "stdout",
     "output_type": "stream",
     "text": [
      "Accuracy: 0.5853658536585366\n"
     ]
    }
   ],
   "source": [
    "y_pred_naive=model_naive.predict(X_test)\n",
    "# Model Accuracy, how often is the classifier correct?\n",
    "print(\"Accuracy:\",metrics.accuracy_score(y_test, y_pred_naive))"
   ],
   "metadata": {
    "collapsed": false,
    "ExecuteTime": {
     "end_time": "2025-03-22T02:47:43.906546Z",
     "start_time": "2025-03-22T02:47:43.887245Z"
    }
   },
   "id": "d6c2f56179b7da48",
   "execution_count": 11
  },
  {
   "cell_type": "code",
   "outputs": [],
   "source": [
    "import pickle\n",
    "pickle.dump(model,open('Pickle/year2_10point_scale.pkl','wb'))\n",
    "pickle.dump(model_naive,open('Pickle/year2_10point_scale_naive.pkl','wb'))"
   ],
   "metadata": {
    "collapsed": false,
    "ExecuteTime": {
     "end_time": "2025-03-22T02:47:47.701333Z",
     "start_time": "2025-03-22T02:47:47.691264Z"
    }
   },
   "id": "434038bf56e7d81b",
   "execution_count": 12
  },
  {
   "cell_type": "code",
   "outputs": [],
   "source": [],
   "metadata": {
    "collapsed": false
   },
   "id": "89986d7e6489037f"
  }
 ],
 "metadata": {
  "kernelspec": {
   "display_name": "Python 3",
   "language": "python",
   "name": "python3"
  },
  "language_info": {
   "codemirror_mode": {
    "name": "ipython",
    "version": 2
   },
   "file_extension": ".py",
   "mimetype": "text/x-python",
   "name": "python",
   "nbconvert_exporter": "python",
   "pygments_lexer": "ipython2",
   "version": "2.7.6"
  }
 },
 "nbformat": 4,
 "nbformat_minor": 5
}
